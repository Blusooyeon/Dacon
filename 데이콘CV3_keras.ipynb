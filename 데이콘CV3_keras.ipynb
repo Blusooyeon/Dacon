{
  "cells": [
    {
      "cell_type": "markdown",
      "metadata": {
        "id": "view-in-github",
        "colab_type": "text"
      },
      "source": [
        "<a href=\"https://colab.research.google.com/github/Blusooyeon/Dacon/blob/main/%EB%8D%B0%EC%9D%B4%EC%BD%98CV3_keras.ipynb\" target=\"_parent\"><img src=\"https://colab.research.google.com/assets/colab-badge.svg\" alt=\"Open In Colab\"/></a>"
      ]
    },
    {
      "cell_type": "markdown",
      "source": [
        "keras cnn 모델 사용"
      ],
      "metadata": {
        "id": "k7YGZQlxjO5A"
      }
    },
    {
      "cell_type": "code",
      "execution_count": null,
      "metadata": {
        "id": "1gi1qqsWPUa6"
      },
      "outputs": [],
      "source": [
        "import time\n",
        "import random\n",
        "import datetime\n",
        "from collections import defaultdict\n",
        "\n",
        "import matplotlib.pyplot as plt\n",
        "import pandas as pd\n",
        "import numpy as np\n",
        "\n",
        "from sklearn.model_selection import train_test_split\n",
        "from keras.utils.np_utils import to_categorical\n",
        "from tensorflow.keras.preprocessing.image import ImageDataGenerator\n",
        "from tensorflow.keras.callbacks import LearningRateScheduler\n"
      ]
    },
    {
      "cell_type": "code",
      "source": [
        "from google.colab import drive\n",
        "drive.mount('/content/drive')"
      ],
      "metadata": {
        "colab": {
          "base_uri": "https://localhost:8080/"
        },
        "id": "i2_aFSGuRCGL",
        "outputId": "03f34de3-c63f-44be-dc22-e4725fa745be"
      },
      "execution_count": null,
      "outputs": [
        {
          "output_type": "stream",
          "name": "stdout",
          "text": [
            "Drive already mounted at /content/drive; to attempt to forcibly remount, call drive.mount(\"/content/drive\", force_remount=True).\n"
          ]
        }
      ]
    },
    {
      "cell_type": "code",
      "source": [
        "train = pd.read_csv('/content/drive/MyDrive/Colab Notebooks/데이콘1/train.csv')\n",
        "test = pd.read_csv('/content/drive/MyDrive/Colab Notebooks/데이콘1/test.csv')\n",
        "sub = pd.read_csv('/content/drive/MyDrive/Colab Notebooks/데이콘1/submission.csv')"
      ],
      "metadata": {
        "id": "wq4dv1Mh3Qxp"
      },
      "execution_count": null,
      "outputs": []
    },
    {
      "cell_type": "markdown",
      "source": [
        "letter 속에 digit 가 숨어있는 이미지\n",
        "\n",
        "우리는 숫자를 예측해야한다."
      ],
      "metadata": {
        "id": "SV-F_CZ6jc6W"
      }
    },
    {
      "cell_type": "code",
      "source": [
        "# 이미지 확인\n",
        "import random\n",
        "\n",
        "idx = random.randint(0, 2048)\n",
        "img = train.loc[idx, '0':].values.reshape(28, 28).astype(int)\n",
        "digit = train.loc[idx, 'digit']\n",
        "letter = train.loc[idx, 'letter']\n",
        "\n",
        "plt.title('Index: %i, Digit: %s, Letter: %s'%(idx, digit, letter))\n",
        "plt.imshow(img)\n",
        "plt.show()"
      ],
      "metadata": {
        "colab": {
          "base_uri": "https://localhost:8080/",
          "height": 452
        },
        "id": "vZLbHpT75CZ4",
        "outputId": "a3530988-bbbe-45fb-d38e-a33da557bbb9"
      },
      "execution_count": null,
      "outputs": [
        {
          "output_type": "display_data",
          "data": {
            "text/plain": [
              "<Figure size 640x480 with 1 Axes>"
            ],
            "image/png": "[encoded data removed]"
          },
          "metadata": {}
        }
      ]
    },
    {
      "cell_type": "code",
      "execution_count": null,
      "metadata": {
        "id": "261x5gwaPUa6"
      },
      "outputs": [],
      "source": [
        "X_train = (train[[str(i) for i in range(784)]] / 255.).values.reshape(-1, 28, 28, 1)\n",
        "y_train = to_categorical(train['digit'].values)"
      ]
    },
    {
      "cell_type": "code",
      "execution_count": null,
      "metadata": {
        "id": "eLSvs5SdPUa6"
      },
      "outputs": [],
      "source": [
        "# 성능을 높이는데, 이미지 데이터 증강이 중요해보였음\n",
        "\n",
        "datagen = ImageDataGenerator(\n",
        "        width_shift_range=0.2,\n",
        "        height_shift_range=0.2)\n",
        "\n",
        "#다양하게 진행한다고 해서 성능이 높아지는 것은 아님\n"
      ]
    },
    {
      "cell_type": "code",
      "execution_count": null,
      "metadata": {
        "id": "NG3tlKymPUa6"
      },
      "outputs": [],
      "source": [
        "# cnn 모델 구축\n",
        "# 이미지데이터 딥러닝 학습에서 가장 많이 사용되는 reLu 함수 사용\n",
        "\n",
        "#채널 16추가\n",
        "\n",
        "model = Sequential()\n",
        "\n",
        "model.add(Conv2D(16, kernel_size = 3, activation='relu', input_shape = (28, 28, 1)))\n",
        "model.add(Conv2D(16, kernel_size = 3, activation='relu'))\n",
        "model.add(Conv2D(16, kernel_size = 5, strides=2, padding='same', activation='relu'))\n",
        "model.add(Dropout(0.4))\n",
        "\n",
        "model.add(Conv2D(32, kernel_size = 3, activation='relu', input_shape = (28, 28, 1)))\n",
        "model.add(Conv2D(32, kernel_size = 3, activation='relu'))\n",
        "model.add(Conv2D(32, kernel_size = 5, strides=2, padding='same', activation='relu'))\n",
        "model.add(Dropout(0.4))\n",
        "\n",
        "model.add(Conv2D(64, kernel_size = 3, activation='relu'))\n",
        "model.add(Conv2D(64, kernel_size = 3, activation='relu'))\n",
        "model.add(Conv2D(64, kernel_size = 5, strides=2, padding='same', activation='relu'))\n",
        "model.add(Dropout(0.4))\n",
        "\n",
        "model.add(Conv2D(128, kernel_size = 4, activation='relu'))\n",
        "model.add(Flatten())\n",
        "model.add(Dropout(0.4))\n",
        "model.add(Dense(10, activation='softmax'))\n",
        "\n",
        "model.compile(optimizer=\"adam\", loss=\"categorical_crossentropy\", metrics=[\"accuracy\"])"
      ]
    },
    {
      "cell_type": "code",
      "execution_count": null,
      "metadata": {
        "id": "Wx_klULhPUa7",
        "colab": {
          "base_uri": "https://localhost:8080/"
        },
        "outputId": "3bb56dab-0f55-4d3c-a9c5-cd8dd5e4db68"
      },
      "outputs": [
        {
          "output_type": "stream",
          "name": "stdout",
          "text": [
            "Model: \"sequential_1\"\n",
            "_________________________________________________________________\n",
            " Layer (type)                Output Shape              Param #   \n",
            "=================================================================\n",
            " conv2d_7 (Conv2D)           (None, 26, 26, 32)        320       \n",
            "                                                                 \n",
            " conv2d_8 (Conv2D)           (None, 24, 24, 32)        9248      \n",
            "                                                                 \n",
            " conv2d_9 (Conv2D)           (None, 12, 12, 32)        25632     \n",
            "                                                                 \n",
            " dropout_3 (Dropout)         (None, 12, 12, 32)        0         \n",
            "                                                                 \n",
            " conv2d_10 (Conv2D)          (None, 10, 10, 64)        18496     \n",
            "                                                                 \n",
            " conv2d_11 (Conv2D)          (None, 8, 8, 64)          36928     \n",
            "                                                                 \n",
            " conv2d_12 (Conv2D)          (None, 4, 4, 64)          102464    \n",
            "                                                                 \n",
            " dropout_4 (Dropout)         (None, 4, 4, 64)          0         \n",
            "                                                                 \n",
            " conv2d_13 (Conv2D)          (None, 1, 1, 128)         131200    \n",
            "                                                                 \n",
            " flatten_1 (Flatten)         (None, 128)               0         \n",
            "                                                                 \n",
            " dropout_5 (Dropout)         (None, 128)               0         \n",
            "                                                                 \n",
            " dense_1 (Dense)             (None, 10)                1290      \n",
            "                                                                 \n",
            "=================================================================\n",
            "Total params: 325,578\n",
            "Trainable params: 325,578\n",
            "Non-trainable params: 0\n",
            "_________________________________________________________________\n"
          ]
        }
      ],
      "source": [
        "model.summary()"
      ]
    },
    {
      "cell_type": "code",
      "execution_count": null,
      "metadata": {
        "id": "oK-s-FarPUa7"
      },
      "outputs": [],
      "source": [
        "# learning rate 조절\n",
        "lr = LearningRateScheduler(lambda x: 1e-3 * 0.95 ** x)"
      ]
    },
    {
      "cell_type": "code",
      "execution_count": null,
      "metadata": {
        "id": "TQW98RTIPUa7"
      },
      "outputs": [],
      "source": [
        "epochs = 45\n",
        "# Train-Test를 9:1로 분리\n",
        "X_train2, X_val2, y_train2, y_val2 = train_test_split(\n",
        "    X_train, y_train, test_size = 0.1)\n",
        "\n",
        "history = model.fit(\n",
        "    datagen.flow(X_train2, y_train2, batch_size=32),\n",
        "    epochs=epochs,\n",
        "    steps_per_epoch=X_train2.shape[0]//32,\n",
        "    validation_data=(X_val2, y_val2),\n",
        "    callbacks=[lr],\n",
        "    verbose=0\n",
        ")\n"
      ]
    },
    {
      "cell_type": "code",
      "execution_count": null,
      "metadata": {
        "id": "9M5KckvKPUa7"
      },
      "outputs": [],
      "source": [
        "# Parameter 및 모델 구조 저장\n",
        "model.save_weights(f'params.h5')\n",
        "\n",
        "model_json = model.to_json()\n",
        "with open(f\"model.json\", \"w\") as json_file :\n",
        "    json_file.write(model_json)"
      ]
    },
    {
      "cell_type": "code",
      "execution_count": null,
      "metadata": {
        "id": "GnLbIT73PUa7",
        "colab": {
          "base_uri": "https://localhost:8080/"
        },
        "outputId": "95907ec5-0689-4b03-f0e2-2b87274955b4"
      },
      "outputs": [
        {
          "output_type": "stream",
          "name": "stdout",
          "text": [
            "640/640 [==============================] - 2s 3ms/step\n",
            "(20480,)\n"
          ]
        }
      ],
      "source": [
        "# 예측\n",
        "X_test = (test[[str(i) for i in range(784)]] / 255.).values.reshape(-1, 28, 28, 1)\n",
        "pred = np.argmax(model.predict(X_test), axis=1)\n"
      ]
    },
    {
      "cell_type": "code",
      "execution_count": null,
      "metadata": {
        "id": "_k7mPdpSPUa7"
      },
      "outputs": [],
      "source": [
        "sub.digit = pred\n",
        "sub.to_csv('CV3.csv', index=False)\n"
      ]
    }
  ],
  "metadata": {
    "kernelspec": {
      "display_name": "Python 3",
      "name": "python3"
    },
    "language_info": {
      "name": "python"
    },
    "colab": {
      "provenance": [],
      "gpuType": "T4",
      "include_colab_link": true
    },
    "accelerator": "GPU",
    "gpuClass": "standard"
  },
  "nbformat": 4,
  "nbformat_minor": 0
}