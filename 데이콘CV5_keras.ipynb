{
  "cells": [
    {
      "cell_type": "markdown",
      "metadata": {
        "id": "view-in-github",
        "colab_type": "text"
      },
      "source": [
        "<a href=\"https://colab.research.google.com/github/Blusooyeon/Dacon/blob/main/%EB%8D%B0%EC%9D%B4%EC%BD%98CV5_keras.ipynb\" target=\"_parent\"><img src=\"https://colab.research.google.com/assets/colab-badge.svg\" alt=\"Open In Colab\"/></a>"
      ]
    },
    {
      "cell_type": "markdown",
      "source": [
        "keras cnn 모델 사용"
      ],
      "metadata": {
        "id": "k7YGZQlxjO5A"
      }
    },
    {
      "cell_type": "code",
      "execution_count": null,
      "metadata": {
        "id": "1gi1qqsWPUa6"
      },
      "outputs": [],
      "source": [
        "import time\n",
        "import random\n",
        "import datetime\n",
        "from collections import defaultdict\n",
        "\n",
        "import matplotlib.pyplot as plt\n",
        "import pandas as pd\n",
        "import numpy as np\n",
        "import tensorflow as tf\n",
        "\n",
        "\n",
        "from sklearn.model_selection import train_test_split\n",
        "from keras.utils.np_utils import to_categorical\n",
        "from tensorflow.keras.preprocessing.image import ImageDataGenerator\n",
        "from tensorflow.keras.callbacks import LearningRateScheduler\n"
      ]
    },
    {
      "cell_type": "code",
      "source": [
        "from google.colab import drive\n",
        "drive.mount('/content/drive')"
      ],
      "metadata": {
        "id": "i2_aFSGuRCGL",
        "colab": {
          "base_uri": "https://localhost:8080/"
        },
        "outputId": "779cc490-fdaf-4eab-c0db-9f9defdcb97a"
      },
      "execution_count": null,
      "outputs": [
        {
          "output_type": "stream",
          "name": "stdout",
          "text": [
            "Drive already mounted at /content/drive; to attempt to forcibly remount, call drive.mount(\"/content/drive\", force_remount=True).\n"
          ]
        }
      ]
    },
    {
      "cell_type": "code",
      "source": [
        "train = pd.read_csv('/content/drive/MyDrive/Colab Notebooks/데이콘1/train.csv')\n",
        "test = pd.read_csv('/content/drive/MyDrive/Colab Notebooks/데이콘1/test.csv')\n",
        "sub = pd.read_csv('/content/drive/MyDrive/Colab Notebooks/데이콘1/submission.csv')"
      ],
      "metadata": {
        "id": "wq4dv1Mh3Qxp"
      },
      "execution_count": null,
      "outputs": []
    },
    {
      "cell_type": "markdown",
      "source": [
        "letter 속에 digit 가 숨어있는 이미지\n",
        "\n",
        "우리는 숫자를 예측해야한다."
      ],
      "metadata": {
        "id": "SV-F_CZ6jc6W"
      }
    },
    {
      "cell_type": "code",
      "source": [
        "# 이미지 확인\n",
        "import random\n",
        "\n",
        "idx = random.randint(0, 2048)\n",
        "img = train.loc[idx, '0':].values.reshape(28, 28).astype(int)\n",
        "digit = train.loc[idx, 'digit']\n",
        "letter = train.loc[idx, 'letter']\n",
        "\n",
        "plt.title('Index: %i, Digit: %s, Letter: %s'%(idx, digit, letter))\n",
        "plt.imshow(img)\n",
        "plt.show()"
      ],
      "metadata": {
        "colab": {
          "base_uri": "https://localhost:8080/",
          "height": 452
        },
        "id": "vZLbHpT75CZ4",
        "outputId": "ed669ca2-65e2-467a-88d3-0d65e63b330a"
      },
      "execution_count": null,
      "outputs": [
        {
          "output_type": "display_data",
          "data": {
            "text/plain": [
              "<Figure size 640x480 with 1 Axes>"
            ],
            "image/png": "[encoded data removed]"
          },
          "metadata": {}
        }
      ]
    },
    {
      "cell_type": "code",
      "execution_count": null,
      "metadata": {
        "id": "261x5gwaPUa6"
      },
      "outputs": [],
      "source": [
        "# 모델 설계, 훈련\n",
        "\n",
        "def one_hot_encoder(x): # 1개만 Hot(True)이고 나머지는 Cold(False) -> One hot endoding\n",
        "    y = np.zeros((len(x), len(np.unique(x)))) # x의 길이만큼 모든 값이 0인 벡터 생성. np.unique(x) : x의 중복된 성분을 제외한 배열 반환\n",
        "    for i, num in enumerate(x):\n",
        "        y[i][num] = 1 # Label에 해당하는 인덱스에 1 입력\n",
        "    return y\n",
        "\n",
        "# CNN은 이미지 파일을 그대로 받는다.(28*28, 1채널) 훈련 파일을 이렇게 이미지 파일이 나열된 벡터로 만들어야 CNN에서 잘 처리할 수 있다.\n",
        "x_train = train.drop(['id', 'digit', 'letter'], axis=1).values\n",
        "x_train = x_train.reshape(-1, 28,28,1) # shape 변경 (784크기가 6만개)\n",
        "\n",
        "# 픽셀 값을 0~1 사이 값으로 변환 (너무 큰 값이 들어가면 함수의 계수들이 작아질 위험이 생김(0.0000023 등) -> 계수들의 학습이 불안정해짐.)\n",
        "# 정규화의 목적 -> input의 범위와 output의 크기를 맞춰주기 위함 -> 계산 과정에서 생기는 위험 줄임)\n",
        "x_train = x_train / 255 # 입력 데이터의 최대값이 255라 255로 나눠주는 것\n",
        "\n",
        "# Label의 원-핫 인코딩 실행(배열 train_label을 벡터로 만들어줌 -> 이렇게 만들고 학습하면 잘됨. 분류 문제에서는 거의 one hot encording을 수행한다.)\n",
        "y_train = one_hot_encoder(train['digit']) # 결과값(답안)을 one-hot encoder 기법으로 {1,0,0,...} 꼴의 벡터들의 리스트로 생성."
      ]
    },
    {
      "cell_type": "code",
      "execution_count": null,
      "metadata": {
        "id": "eLSvs5SdPUa6"
      },
      "outputs": [],
      "source": [
        "# 성능을 높이는데, 이미지 데이터 증강이 중요해보였음\n",
        "\n",
        "datagen = ImageDataGenerator(\n",
        "        width_shift_range=0.2,\n",
        "        height_shift_range=0.2)\n",
        "\n",
        "#다양하게 진행한다고 해서 성능이 높아지는 것은 아님\n"
      ]
    },
    {
      "cell_type": "code",
      "execution_count": null,
      "metadata": {
        "id": "NG3tlKymPUa6"
      },
      "outputs": [],
      "source": [
        "# cnn 모델 구축\n",
        "# 이미지데이터 딥러닝 학습에서 가장 많이 사용되는 reLu 함수 사용\n",
        "def create_cnn_model(x_train):\n",
        "\n",
        "# 입력 데이터 가공\n",
        "  inputs = tf.keras.layers.Input(x_train.shape[1:]) # 입력 데이터를 뽑아낸다.\n",
        "\n",
        "  bn = tf.keras.layers.BatchNormalization()(inputs) # BatchNormalization : 배치 정규화. 스케일을 조정해 학습시 일어나는 왜곡 현상을 보정해줌. 안정적인 학습을 가능하게 해줘 높은 학습률로 학습 시킬 수 있게 해준다.\n",
        "  conv = tf.keras.layers.Conv2D(16, kernel_size=5, strides=1, padding='same', activation='relu')(bn)  # 배치 정규화한 입력 데이터를 2차원 배열 컨볼루전 연산. 커널 개수가 128개로 하고(커널을 8개로 할 때 보다 더많은 특징을 잡을 수 있다.) 커널 사이즈는 5*5사이즈로 한다.\n",
        "  bn = tf.keras.layers.BatchNormalization()(conv) #컨볼루전 연산한 것을 또다시 배치 정규화.\n",
        "  conv = tf.keras.layers.Conv2D(16, kernel_size=2, strides=1, padding='same', activation='relu')(bn) # 배치 정규화한 것을 또다시 컨볼루전 연산한다.\n",
        "  pool = tf.keras.layers.MaxPooling2D((2, 2))(conv) # MaxPooling 레이어(이미지 학습할 때 많이 사용. MaxPooling2D : 이미지 크기를 줄여주는 함수. (2*2)단위로 이미지를 축소해서 쓴다.\n",
        "\n",
        "  bn = tf.keras.layers.BatchNormalization()(inputs) # BatchNormalization : 배치 정규화. 스케일을 조정해 학습시 일어나는 왜곡 현상을 보정해줌. 안정적인 학습을 가능하게 해줘 높은 학습률로 학습 시킬 수 있게 해준다.\n",
        "  conv = tf.keras.layers.Conv2D(32, kernel_size=2, strides=1, padding='same', activation='relu')(bn)  # 배치 정규화한 입력 데이터를 2차원 배열 컨볼루전 연산. 커널 개수가 128개로 하고(커널을 8개로 할 때 보다 더많은 특징을 잡을 수 있다.) 커널 사이즈는 5*5사이즈로 한다.\n",
        "  bn = tf.keras.layers.BatchNormalization()(conv) #컨볼루전 연산한 것을 또다시 배치 정규화.\n",
        "  conv = tf.keras.layers.Conv2D(32, kernel_size=2, strides=1, padding='same', activation='relu')(bn) # 배치 정규화한 것을 또다시 컨볼루전 연산한다.\n",
        "  pool = tf.keras.layers.MaxPooling2D((2, 2))(conv) # MaxPooling 레이어(이미지 학습할 때 많이 사용. MaxPooling2D : 이미지 크기를 줄여주는 함수. (2*2)단위로 이미지를 축소해서 쓴다.\n",
        "\n",
        "  bn = tf.keras.layers.BatchNormalization()(inputs) # BatchNormalization : 배치 정규화. 스케일을 조정해 학습시 일어나는 왜곡 현상을 보정해줌. 안정적인 학습을 가능하게 해줘 높은 학습률로 학습 시킬 수 있게 해준다.\n",
        "  conv = tf.keras.layers.Conv2D(64, kernel_size=5, strides=1, padding='same', activation='relu')(bn)  # 배치 정규화한 입력 데이터를 2차원 배열 컨볼루전 연산. 커널 개수가 128개로 하고(커널을 8개로 할 때 보다 더많은 특징을 잡을 수 있다.) 커널 사이즈는 5*5사이즈로 한다.\n",
        "  bn = tf.keras.layers.BatchNormalization()(conv) #컨볼루전 연산한 것을 또다시 배치 정규화.\n",
        "  conv = tf.keras.layers.Conv2D(64, kernel_size=2, strides=1, padding='same', activation='relu')(bn) # 배치 정규화한 것을 또다시 컨볼루전 연산한다.\n",
        "  pool = tf.keras.layers.MaxPooling2D((2, 2))(conv) # MaxPooling 레이어(이미지 학습할 때 많이 사용. MaxPooling2D : 이미지 크기를 줄여주는 함수. (2*2)단위로 이미지를 축소해서 쓴다.\n",
        "\n",
        "# 축소한 것을 앞서 한 것처럼 배치 정규화, 컨볼루전 연산을 거친 뒤 마지막에 MaxPooling 레이어를 적용해 크기를 줄임으로써 데이터를 학습하기 편하게 가공해준다.\n",
        "  bn = tf.keras.layers.BatchNormalization()(pool) # 배치 정규화.\n",
        "  conv = tf.keras.layers.Conv2D(128, kernel_size=2, strides=1, padding='same', activation='relu')(bn) # 컨볼루전 연산\n",
        "  bn = tf.keras.layers.BatchNormalization()(conv) # 배치 정규화\n",
        "  conv = tf.keras.layers.Conv2D(128, kernel_size=2, strides=1, padding='same', activation='relu')(bn) # 컨볼루전 연산\n",
        "  pool = tf.keras.layers.MaxPooling2D((2, 2))(conv) # MaxPooling\n",
        "\n",
        "  flatten = tf.keras.layers.Flatten()(pool)\n",
        "\n",
        "# 배치 정규화를 통해 안정적인 데이터로 만들어준다.\n",
        "  bn = tf.keras.layers.BatchNormalization()(flatten)\n",
        "# Dense Layer을 사용해 완전 연결 계층으로 생성 (Fully-Connected Layer). Dense : 입,출력을 모두 연결하는 레이어\n",
        "  dense = tf.keras.layers.Dense(1000, activation='relu')(bn)\n",
        "\n",
        "# 출력\n",
        "  bn = tf.keras.layers.BatchNormalization()(dense) # 배치 정규화\n",
        "  outputs = tf.keras.layers.Dense(10, activation='softmax')(bn) # 배치 정규화한 것을 완전 연결 계층으로 만든다.\n",
        "\n",
        "# 모델 생성\n",
        "  model = tf.keras.models.Model(inputs=inputs, outputs=outputs) # 가공한 입, 출력 파일을 넣어 모델 생성\n",
        "\n",
        "  return model"
      ]
    },
    {
      "cell_type": "code",
      "execution_count": null,
      "metadata": {
        "id": "Wx_klULhPUa7",
        "colab": {
          "base_uri": "https://localhost:8080/"
        },
        "outputId": "7e043e1a-31ed-4d55-ecfb-8c1c9ca8d9b3"
      },
      "outputs": [
        {
          "output_type": "stream",
          "name": "stdout",
          "text": [
            "Model: \"model_1\"\n",
            "_________________________________________________________________\n",
            " Layer (type)                Output Shape              Param #   \n",
            "=================================================================\n",
            " input_2 (InputLayer)        [(None, 28, 28, 1)]       0         \n",
            "                                                                 \n",
            " batch_normalization_10 (Bat  (None, 28, 28, 1)        4         \n",
            " chNormalization)                                                \n",
            "                                                                 \n",
            " conv2d_8 (Conv2D)           (None, 28, 28, 64)        1664      \n",
            "                                                                 \n",
            " batch_normalization_11 (Bat  (None, 28, 28, 64)       256       \n",
            " chNormalization)                                                \n",
            "                                                                 \n",
            " conv2d_9 (Conv2D)           (None, 28, 28, 64)        16448     \n",
            "                                                                 \n",
            " max_pooling2d_4 (MaxPooling  (None, 14, 14, 64)       0         \n",
            " 2D)                                                             \n",
            "                                                                 \n",
            " batch_normalization_12 (Bat  (None, 14, 14, 64)       256       \n",
            " chNormalization)                                                \n",
            "                                                                 \n",
            " conv2d_10 (Conv2D)          (None, 14, 14, 128)       32896     \n",
            "                                                                 \n",
            " batch_normalization_13 (Bat  (None, 14, 14, 128)      512       \n",
            " chNormalization)                                                \n",
            "                                                                 \n",
            " conv2d_11 (Conv2D)          (None, 14, 14, 128)       65664     \n",
            "                                                                 \n",
            " max_pooling2d_5 (MaxPooling  (None, 7, 7, 128)        0         \n",
            " 2D)                                                             \n",
            "                                                                 \n",
            " flatten_1 (Flatten)         (None, 6272)              0         \n",
            "                                                                 \n",
            " batch_normalization_14 (Bat  (None, 6272)             25088     \n",
            " chNormalization)                                                \n",
            "                                                                 \n",
            " dense_2 (Dense)             (None, 1000)              6273000   \n",
            "                                                                 \n",
            " batch_normalization_15 (Bat  (None, 1000)             4000      \n",
            " chNormalization)                                                \n",
            "                                                                 \n",
            " dense_3 (Dense)             (None, 10)                10010     \n",
            "                                                                 \n",
            "=================================================================\n",
            "Total params: 6,429,798\n",
            "Trainable params: 6,414,740\n",
            "Non-trainable params: 15,058\n",
            "_________________________________________________________________\n"
          ]
        }
      ],
      "source": [
        "model = create_cnn_model(x_train) # 모델 만들기\n",
        "model.compile(loss='categorical_crossentropy', optimizer='adam', metrics=['accuracy'])\n",
        "model.summary()"
      ]
    },
    {
      "cell_type": "code",
      "execution_count": null,
      "metadata": {
        "id": "oK-s-FarPUa7"
      },
      "outputs": [],
      "source": [
        "# learning rate 조절\n",
        "lr = LearningRateScheduler(lambda x: 1e-3 * 0.95 ** x)"
      ]
    },
    {
      "cell_type": "code",
      "execution_count": null,
      "metadata": {
        "id": "TQW98RTIPUa7"
      },
      "outputs": [],
      "source": [
        "epochs = 45\n",
        "# Train-Test를 9:1로 분리\n",
        "X_train2, X_val2, y_train2, y_val2 = train_test_split(\n",
        "    x_train, y_train, test_size = 0.1)\n",
        "\n",
        "history = model.fit(\n",
        "    datagen.flow(X_train2, y_train2, batch_size=32),\n",
        "    epochs=epochs,\n",
        "    steps_per_epoch=X_train2.shape[0]//32,\n",
        "    validation_data=(X_val2, y_val2),\n",
        "    callbacks=[lr],\n",
        "    verbose=0\n",
        ")\n"
      ]
    },
    {
      "cell_type": "code",
      "execution_count": null,
      "metadata": {
        "id": "9M5KckvKPUa7"
      },
      "outputs": [],
      "source": [
        "# Parameter 및 모델 구조 저장\n",
        "model.save_weights(f'params.h5')\n",
        "\n",
        "model_json = model.to_json()\n",
        "with open(f\"model.json\", \"w\") as json_file :\n",
        "    json_file.write(model_json)"
      ]
    },
    {
      "cell_type": "code",
      "execution_count": null,
      "metadata": {
        "id": "GnLbIT73PUa7",
        "colab": {
          "base_uri": "https://localhost:8080/"
        },
        "outputId": "750db3ec-0f1e-4b57-a696-fe9816ab9a22"
      },
      "outputs": [
        {
          "output_type": "stream",
          "name": "stdout",
          "text": [
            "640/640 [==============================] - 1s 2ms/step\n"
          ]
        }
      ],
      "source": [
        "# 예측\n",
        "X_test = (test[[str(i) for i in range(784)]] / 255.).values.reshape(-1, 28, 28, 1)\n",
        "pred = np.argmax(model.predict(X_test), axis=1)\n"
      ]
    },
    {
      "cell_type": "code",
      "execution_count": null,
      "metadata": {
        "id": "_k7mPdpSPUa7"
      },
      "outputs": [],
      "source": [
        "sub.digit = pred\n",
        "sub.to_csv('CV5.csv', index=False)\n"
      ]
    }
  ],
  "metadata": {
    "kernelspec": {
      "display_name": "Python 3",
      "name": "python3"
    },
    "language_info": {
      "name": "python"
    },
    "colab": {
      "provenance": [],
      "gpuType": "T4",
      "include_colab_link": true
    },
    "accelerator": "GPU",
    "gpuClass": "standard"
  },
  "nbformat": 4,
  "nbformat_minor": 0
}